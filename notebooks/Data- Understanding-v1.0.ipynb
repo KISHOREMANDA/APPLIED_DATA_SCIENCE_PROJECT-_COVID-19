{
 "cells": [
  {
   "cell_type": "markdown",
   "metadata": {},
   "source": [
    "# Data Understanding"
   ]
  },
  {
   "cell_type": "markdown",
   "metadata": {},
   "source": [
    "RKI, webscrape (webscraping) https://www.rki.de/DE/Content/InfAZ/N/Neuartiges_Coronavirus/Fallzahlen.html\n",
    "\n",
    "John Hopkins (GITHUB) https://github.com/CSSEGISandData/COVID-19.git\n",
    "\n",
    "REST API services to retreive data https://npgeo-corona-npgeo-de.hub.arcgis.com/"
   ]
  },
  {
   "cell_type": "markdown",
   "metadata": {},
   "source": [
    "# John Hopkins GITHUB csv data"
   ]
  },
  {
   "cell_type": "code",
   "execution_count": null,
   "metadata": {},
   "outputs": [],
   "source": []
  },
  {
   "cell_type": "code",
   "execution_count": 1,
   "metadata": {},
   "outputs": [
    {
     "name": "stderr",
     "output_type": "stream",
     "text": [
      "C:\\Users\\kishore\\Anaconda3\\lib\\site-packages\\statsmodels\\tools\\_testing.py:19: FutureWarning: pandas.util.testing is deprecated. Use the functions in the public API at pandas.testing instead.\n",
      "  import pandas.util.testing as tm\n"
     ]
    }
   ],
   "source": [
    "import pandas as pd\n",
    "import numpy as np\n",
    "\n",
    "from datetime import datetime\n",
    "\n",
    "%matplotlib inline\n",
    "\n",
    "import matplotlib as mpl\n",
    "import matplotlib.pyplot as plt\n",
    "import seaborn as sns"
   ]
  },
  {
   "cell_type": "code",
   "execution_count": 2,
   "metadata": {},
   "outputs": [],
   "source": [
    "mpl.rcParams['figure.figsize']=(16,9)\n",
    "pd.set_option('display.max_rows',500)"
   ]
  },
  {
   "cell_type": "code",
   "execution_count": 3,
   "metadata": {},
   "outputs": [],
   "source": [
    "data_path='../data/raw/COVID-19/csse_covid_19_data/csse_covid_19_time_series/time_series_covid19_confirmed_global.csv'\n",
    "pd_raw=pd.read_csv(data_path)"
   ]
  },
  {
   "cell_type": "code",
   "execution_count": 4,
   "metadata": {},
   "outputs": [
    {
     "data": {
      "text/html": [
       "<div>\n",
       "<style scoped>\n",
       "    .dataframe tbody tr th:only-of-type {\n",
       "        vertical-align: middle;\n",
       "    }\n",
       "\n",
       "    .dataframe tbody tr th {\n",
       "        vertical-align: top;\n",
       "    }\n",
       "\n",
       "    .dataframe thead th {\n",
       "        text-align: right;\n",
       "    }\n",
       "</style>\n",
       "<table border=\"1\" class=\"dataframe\">\n",
       "  <thead>\n",
       "    <tr style=\"text-align: right;\">\n",
       "      <th></th>\n",
       "      <th>Province/State</th>\n",
       "      <th>Country/Region</th>\n",
       "      <th>Lat</th>\n",
       "      <th>Long</th>\n",
       "      <th>1/22/20</th>\n",
       "      <th>1/23/20</th>\n",
       "      <th>1/24/20</th>\n",
       "      <th>1/25/20</th>\n",
       "      <th>1/26/20</th>\n",
       "      <th>1/27/20</th>\n",
       "      <th>...</th>\n",
       "      <th>8/12/20</th>\n",
       "      <th>8/13/20</th>\n",
       "      <th>8/14/20</th>\n",
       "      <th>8/15/20</th>\n",
       "      <th>8/16/20</th>\n",
       "      <th>8/17/20</th>\n",
       "      <th>8/18/20</th>\n",
       "      <th>8/19/20</th>\n",
       "      <th>8/20/20</th>\n",
       "      <th>8/21/20</th>\n",
       "    </tr>\n",
       "  </thead>\n",
       "  <tbody>\n",
       "    <tr>\n",
       "      <th>0</th>\n",
       "      <td>NaN</td>\n",
       "      <td>Afghanistan</td>\n",
       "      <td>33.93911</td>\n",
       "      <td>67.709953</td>\n",
       "      <td>0</td>\n",
       "      <td>0</td>\n",
       "      <td>0</td>\n",
       "      <td>0</td>\n",
       "      <td>0</td>\n",
       "      <td>0</td>\n",
       "      <td>...</td>\n",
       "      <td>37345</td>\n",
       "      <td>37424</td>\n",
       "      <td>37431</td>\n",
       "      <td>37551</td>\n",
       "      <td>37596</td>\n",
       "      <td>37599</td>\n",
       "      <td>37599</td>\n",
       "      <td>37599</td>\n",
       "      <td>37856</td>\n",
       "      <td>37894</td>\n",
       "    </tr>\n",
       "    <tr>\n",
       "      <th>1</th>\n",
       "      <td>NaN</td>\n",
       "      <td>Albania</td>\n",
       "      <td>41.15330</td>\n",
       "      <td>20.168300</td>\n",
       "      <td>0</td>\n",
       "      <td>0</td>\n",
       "      <td>0</td>\n",
       "      <td>0</td>\n",
       "      <td>0</td>\n",
       "      <td>0</td>\n",
       "      <td>...</td>\n",
       "      <td>6817</td>\n",
       "      <td>6971</td>\n",
       "      <td>7117</td>\n",
       "      <td>7260</td>\n",
       "      <td>7380</td>\n",
       "      <td>7499</td>\n",
       "      <td>7654</td>\n",
       "      <td>7812</td>\n",
       "      <td>7967</td>\n",
       "      <td>8119</td>\n",
       "    </tr>\n",
       "    <tr>\n",
       "      <th>2</th>\n",
       "      <td>NaN</td>\n",
       "      <td>Algeria</td>\n",
       "      <td>28.03390</td>\n",
       "      <td>1.659600</td>\n",
       "      <td>0</td>\n",
       "      <td>0</td>\n",
       "      <td>0</td>\n",
       "      <td>0</td>\n",
       "      <td>0</td>\n",
       "      <td>0</td>\n",
       "      <td>...</td>\n",
       "      <td>36699</td>\n",
       "      <td>37187</td>\n",
       "      <td>37664</td>\n",
       "      <td>38133</td>\n",
       "      <td>38583</td>\n",
       "      <td>39025</td>\n",
       "      <td>39444</td>\n",
       "      <td>39847</td>\n",
       "      <td>40258</td>\n",
       "      <td>40667</td>\n",
       "    </tr>\n",
       "    <tr>\n",
       "      <th>3</th>\n",
       "      <td>NaN</td>\n",
       "      <td>Andorra</td>\n",
       "      <td>42.50630</td>\n",
       "      <td>1.521800</td>\n",
       "      <td>0</td>\n",
       "      <td>0</td>\n",
       "      <td>0</td>\n",
       "      <td>0</td>\n",
       "      <td>0</td>\n",
       "      <td>0</td>\n",
       "      <td>...</td>\n",
       "      <td>977</td>\n",
       "      <td>981</td>\n",
       "      <td>989</td>\n",
       "      <td>989</td>\n",
       "      <td>989</td>\n",
       "      <td>1005</td>\n",
       "      <td>1005</td>\n",
       "      <td>1024</td>\n",
       "      <td>1024</td>\n",
       "      <td>1045</td>\n",
       "    </tr>\n",
       "    <tr>\n",
       "      <th>4</th>\n",
       "      <td>NaN</td>\n",
       "      <td>Angola</td>\n",
       "      <td>-11.20270</td>\n",
       "      <td>17.873900</td>\n",
       "      <td>0</td>\n",
       "      <td>0</td>\n",
       "      <td>0</td>\n",
       "      <td>0</td>\n",
       "      <td>0</td>\n",
       "      <td>0</td>\n",
       "      <td>...</td>\n",
       "      <td>1762</td>\n",
       "      <td>1815</td>\n",
       "      <td>1852</td>\n",
       "      <td>1879</td>\n",
       "      <td>1906</td>\n",
       "      <td>1935</td>\n",
       "      <td>1966</td>\n",
       "      <td>2015</td>\n",
       "      <td>2044</td>\n",
       "      <td>2068</td>\n",
       "    </tr>\n",
       "  </tbody>\n",
       "</table>\n",
       "<p>5 rows × 217 columns</p>\n",
       "</div>"
      ],
      "text/plain": [
       "  Province/State Country/Region       Lat       Long  1/22/20  1/23/20  \\\n",
       "0            NaN    Afghanistan  33.93911  67.709953        0        0   \n",
       "1            NaN        Albania  41.15330  20.168300        0        0   \n",
       "2            NaN        Algeria  28.03390   1.659600        0        0   \n",
       "3            NaN        Andorra  42.50630   1.521800        0        0   \n",
       "4            NaN         Angola -11.20270  17.873900        0        0   \n",
       "\n",
       "   1/24/20  1/25/20  1/26/20  1/27/20  ...  8/12/20  8/13/20  8/14/20  \\\n",
       "0        0        0        0        0  ...    37345    37424    37431   \n",
       "1        0        0        0        0  ...     6817     6971     7117   \n",
       "2        0        0        0        0  ...    36699    37187    37664   \n",
       "3        0        0        0        0  ...      977      981      989   \n",
       "4        0        0        0        0  ...     1762     1815     1852   \n",
       "\n",
       "   8/15/20  8/16/20  8/17/20  8/18/20  8/19/20  8/20/20  8/21/20  \n",
       "0    37551    37596    37599    37599    37599    37856    37894  \n",
       "1     7260     7380     7499     7654     7812     7967     8119  \n",
       "2    38133    38583    39025    39444    39847    40258    40667  \n",
       "3      989      989     1005     1005     1024     1024     1045  \n",
       "4     1879     1906     1935     1966     2015     2044     2068  \n",
       "\n",
       "[5 rows x 217 columns]"
      ]
     },
     "execution_count": 4,
     "metadata": {},
     "output_type": "execute_result"
    }
   ],
   "source": [
    "pd_raw.head()"
   ]
  },
  {
   "cell_type": "code",
   "execution_count": 5,
   "metadata": {},
   "outputs": [
    {
     "data": {
      "text/html": [
       "<div>\n",
       "<style scoped>\n",
       "    .dataframe tbody tr th:only-of-type {\n",
       "        vertical-align: middle;\n",
       "    }\n",
       "\n",
       "    .dataframe tbody tr th {\n",
       "        vertical-align: top;\n",
       "    }\n",
       "\n",
       "    .dataframe thead th {\n",
       "        text-align: right;\n",
       "    }\n",
       "</style>\n",
       "<table border=\"1\" class=\"dataframe\">\n",
       "  <thead>\n",
       "    <tr style=\"text-align: right;\">\n",
       "      <th></th>\n",
       "      <th>Province/State</th>\n",
       "      <th>Country/Region</th>\n",
       "      <th>Lat</th>\n",
       "      <th>Long</th>\n",
       "      <th>1/22/20</th>\n",
       "      <th>1/23/20</th>\n",
       "      <th>1/24/20</th>\n",
       "      <th>1/25/20</th>\n",
       "      <th>1/26/20</th>\n",
       "      <th>1/27/20</th>\n",
       "      <th>...</th>\n",
       "      <th>8/12/20</th>\n",
       "      <th>8/13/20</th>\n",
       "      <th>8/14/20</th>\n",
       "      <th>8/15/20</th>\n",
       "      <th>8/16/20</th>\n",
       "      <th>8/17/20</th>\n",
       "      <th>8/18/20</th>\n",
       "      <th>8/19/20</th>\n",
       "      <th>8/20/20</th>\n",
       "      <th>8/21/20</th>\n",
       "    </tr>\n",
       "  </thead>\n",
       "  <tbody>\n",
       "    <tr>\n",
       "      <th>0</th>\n",
       "      <td>NaN</td>\n",
       "      <td>Afghanistan</td>\n",
       "      <td>33.93911</td>\n",
       "      <td>67.709953</td>\n",
       "      <td>0</td>\n",
       "      <td>0</td>\n",
       "      <td>0</td>\n",
       "      <td>0</td>\n",
       "      <td>0</td>\n",
       "      <td>0</td>\n",
       "      <td>...</td>\n",
       "      <td>37345</td>\n",
       "      <td>37424</td>\n",
       "      <td>37431</td>\n",
       "      <td>37551</td>\n",
       "      <td>37596</td>\n",
       "      <td>37599</td>\n",
       "      <td>37599</td>\n",
       "      <td>37599</td>\n",
       "      <td>37856</td>\n",
       "      <td>37894</td>\n",
       "    </tr>\n",
       "    <tr>\n",
       "      <th>1</th>\n",
       "      <td>NaN</td>\n",
       "      <td>Albania</td>\n",
       "      <td>41.15330</td>\n",
       "      <td>20.168300</td>\n",
       "      <td>0</td>\n",
       "      <td>0</td>\n",
       "      <td>0</td>\n",
       "      <td>0</td>\n",
       "      <td>0</td>\n",
       "      <td>0</td>\n",
       "      <td>...</td>\n",
       "      <td>6817</td>\n",
       "      <td>6971</td>\n",
       "      <td>7117</td>\n",
       "      <td>7260</td>\n",
       "      <td>7380</td>\n",
       "      <td>7499</td>\n",
       "      <td>7654</td>\n",
       "      <td>7812</td>\n",
       "      <td>7967</td>\n",
       "      <td>8119</td>\n",
       "    </tr>\n",
       "    <tr>\n",
       "      <th>2</th>\n",
       "      <td>NaN</td>\n",
       "      <td>Algeria</td>\n",
       "      <td>28.03390</td>\n",
       "      <td>1.659600</td>\n",
       "      <td>0</td>\n",
       "      <td>0</td>\n",
       "      <td>0</td>\n",
       "      <td>0</td>\n",
       "      <td>0</td>\n",
       "      <td>0</td>\n",
       "      <td>...</td>\n",
       "      <td>36699</td>\n",
       "      <td>37187</td>\n",
       "      <td>37664</td>\n",
       "      <td>38133</td>\n",
       "      <td>38583</td>\n",
       "      <td>39025</td>\n",
       "      <td>39444</td>\n",
       "      <td>39847</td>\n",
       "      <td>40258</td>\n",
       "      <td>40667</td>\n",
       "    </tr>\n",
       "    <tr>\n",
       "      <th>3</th>\n",
       "      <td>NaN</td>\n",
       "      <td>Andorra</td>\n",
       "      <td>42.50630</td>\n",
       "      <td>1.521800</td>\n",
       "      <td>0</td>\n",
       "      <td>0</td>\n",
       "      <td>0</td>\n",
       "      <td>0</td>\n",
       "      <td>0</td>\n",
       "      <td>0</td>\n",
       "      <td>...</td>\n",
       "      <td>977</td>\n",
       "      <td>981</td>\n",
       "      <td>989</td>\n",
       "      <td>989</td>\n",
       "      <td>989</td>\n",
       "      <td>1005</td>\n",
       "      <td>1005</td>\n",
       "      <td>1024</td>\n",
       "      <td>1024</td>\n",
       "      <td>1045</td>\n",
       "    </tr>\n",
       "    <tr>\n",
       "      <th>4</th>\n",
       "      <td>NaN</td>\n",
       "      <td>Angola</td>\n",
       "      <td>-11.20270</td>\n",
       "      <td>17.873900</td>\n",
       "      <td>0</td>\n",
       "      <td>0</td>\n",
       "      <td>0</td>\n",
       "      <td>0</td>\n",
       "      <td>0</td>\n",
       "      <td>0</td>\n",
       "      <td>...</td>\n",
       "      <td>1762</td>\n",
       "      <td>1815</td>\n",
       "      <td>1852</td>\n",
       "      <td>1879</td>\n",
       "      <td>1906</td>\n",
       "      <td>1935</td>\n",
       "      <td>1966</td>\n",
       "      <td>2015</td>\n",
       "      <td>2044</td>\n",
       "      <td>2068</td>\n",
       "    </tr>\n",
       "  </tbody>\n",
       "</table>\n",
       "<p>5 rows × 217 columns</p>\n",
       "</div>"
      ],
      "text/plain": [
       "  Province/State Country/Region       Lat       Long  1/22/20  1/23/20  \\\n",
       "0            NaN    Afghanistan  33.93911  67.709953        0        0   \n",
       "1            NaN        Albania  41.15330  20.168300        0        0   \n",
       "2            NaN        Algeria  28.03390   1.659600        0        0   \n",
       "3            NaN        Andorra  42.50630   1.521800        0        0   \n",
       "4            NaN         Angola -11.20270  17.873900        0        0   \n",
       "\n",
       "   1/24/20  1/25/20  1/26/20  1/27/20  ...  8/12/20  8/13/20  8/14/20  \\\n",
       "0        0        0        0        0  ...    37345    37424    37431   \n",
       "1        0        0        0        0  ...     6817     6971     7117   \n",
       "2        0        0        0        0  ...    36699    37187    37664   \n",
       "3        0        0        0        0  ...      977      981      989   \n",
       "4        0        0        0        0  ...     1762     1815     1852   \n",
       "\n",
       "   8/15/20  8/16/20  8/17/20  8/18/20  8/19/20  8/20/20  8/21/20  \n",
       "0    37551    37596    37599    37599    37599    37856    37894  \n",
       "1     7260     7380     7499     7654     7812     7967     8119  \n",
       "2    38133    38583    39025    39444    39847    40258    40667  \n",
       "3      989      989     1005     1005     1024     1024     1045  \n",
       "4     1879     1906     1935     1966     2015     2044     2068  \n",
       "\n",
       "[5 rows x 217 columns]"
      ]
     },
     "execution_count": 5,
     "metadata": {},
     "output_type": "execute_result"
    }
   ],
   "source": [
    "data_path='../data/raw/COVID-19/csse_covid_19_data/csse_covid_19_time_series/time_series_covid19_confirmed_global.csv'\n",
    "pd_raw=pd.read_csv(data_path)\n",
    "pd_raw.head()"
   ]
  },
  {
   "cell_type": "markdown",
   "metadata": {},
   "source": [
    "# Explorartive Data Analysis\n",
    "focus is often a visualrepresentation of the data"
   ]
  },
  {
   "cell_type": "code",
   "execution_count": 6,
   "metadata": {},
   "outputs": [
    {
     "data": {
      "text/html": [
       "<div>\n",
       "<style scoped>\n",
       "    .dataframe tbody tr th:only-of-type {\n",
       "        vertical-align: middle;\n",
       "    }\n",
       "\n",
       "    .dataframe tbody tr th {\n",
       "        vertical-align: top;\n",
       "    }\n",
       "\n",
       "    .dataframe thead th {\n",
       "        text-align: right;\n",
       "    }\n",
       "</style>\n",
       "<table border=\"1\" class=\"dataframe\">\n",
       "  <thead>\n",
       "    <tr style=\"text-align: right;\">\n",
       "      <th></th>\n",
       "      <th>date</th>\n",
       "      <th>Italy</th>\n",
       "      <th>US</th>\n",
       "      <th>Spain</th>\n",
       "      <th>Germany</th>\n",
       "      <th>Korea, South</th>\n",
       "    </tr>\n",
       "  </thead>\n",
       "  <tbody>\n",
       "    <tr>\n",
       "      <th>0</th>\n",
       "      <td>2020-01-22</td>\n",
       "      <td>0</td>\n",
       "      <td>1</td>\n",
       "      <td>0</td>\n",
       "      <td>0</td>\n",
       "      <td>1</td>\n",
       "    </tr>\n",
       "    <tr>\n",
       "      <th>1</th>\n",
       "      <td>2020-01-23</td>\n",
       "      <td>0</td>\n",
       "      <td>1</td>\n",
       "      <td>0</td>\n",
       "      <td>0</td>\n",
       "      <td>1</td>\n",
       "    </tr>\n",
       "    <tr>\n",
       "      <th>2</th>\n",
       "      <td>2020-01-24</td>\n",
       "      <td>0</td>\n",
       "      <td>2</td>\n",
       "      <td>0</td>\n",
       "      <td>0</td>\n",
       "      <td>2</td>\n",
       "    </tr>\n",
       "    <tr>\n",
       "      <th>3</th>\n",
       "      <td>2020-01-25</td>\n",
       "      <td>0</td>\n",
       "      <td>2</td>\n",
       "      <td>0</td>\n",
       "      <td>0</td>\n",
       "      <td>2</td>\n",
       "    </tr>\n",
       "    <tr>\n",
       "      <th>4</th>\n",
       "      <td>2020-01-26</td>\n",
       "      <td>0</td>\n",
       "      <td>5</td>\n",
       "      <td>0</td>\n",
       "      <td>0</td>\n",
       "      <td>3</td>\n",
       "    </tr>\n",
       "  </tbody>\n",
       "</table>\n",
       "</div>"
      ],
      "text/plain": [
       "         date  Italy  US  Spain  Germany  Korea, South\n",
       "0  2020-01-22      0   1      0        0             1\n",
       "1  2020-01-23      0   1      0        0             1\n",
       "2  2020-01-24      0   2      0        0             2\n",
       "3  2020-01-25      0   2      0        0             2\n",
       "4  2020-01-26      0   5      0        0             3"
      ]
     },
     "execution_count": 6,
     "metadata": {},
     "output_type": "execute_result"
    }
   ],
   "source": [
    "df_plot=pd.read_csv('../data/processed/COVID_small_flat_table.csv',sep=';')\n",
    "df_plot.head()"
   ]
  },
  {
   "cell_type": "code",
   "execution_count": 7,
   "metadata": {},
   "outputs": [
    {
     "data": {
      "text/plain": [
       "<Figure size 1152x648 with 0 Axes>"
      ]
     },
     "metadata": {},
     "output_type": "display_data"
    },
    {
     "data": {
      "image/png": "[encoded data removed]",
      "text/plain": [
       "<Figure size 1152x648 with 1 Axes>"
      ]
     },
     "metadata": {
      "needs_background": "light"
     },
     "output_type": "display_data"
    }
   ],
   "source": [
    "plt.figure();\n",
    "ax=df_plot.iloc[15:,:].set_index('date').plot()\n",
    "plt.ylim(10,30000)\n",
    "ax.set_yscale('log')"
   ]
  },
  {
   "cell_type": "markdown",
   "metadata": {},
   "source": [
    "# Webscrapping\n"
   ]
  },
  {
   "cell_type": "code",
   "execution_count": 8,
   "metadata": {},
   "outputs": [],
   "source": [
    "import requests\n",
    "from bs4 import BeautifulSoup"
   ]
  },
  {
   "cell_type": "code",
   "execution_count": 9,
   "metadata": {},
   "outputs": [],
   "source": [
    "page = requests.get(\"https://www.rki.de/DE/Content/InfAZ/N/Neuartiges_Coronavirus/Fallzahlen.html\")"
   ]
  },
  {
   "cell_type": "code",
   "execution_count": 10,
   "metadata": {},
   "outputs": [],
   "source": [
    "soup = BeautifulSoup(page.content,'html.parser')"
   ]
  },
  {
   "cell_type": "code",
   "execution_count": 11,
   "metadata": {},
   "outputs": [
    {
     "data": {
      "text/plain": [
       "'\\n\\n\\n\\n\\nRKI  -  Coronavirus SARS-CoV-2 - COVID-19: Fallzahlen in Deutschland und weltweit\\n\\n\\n\\n\\n\\n\\n\\n\\n\\n\\n\\n\\n\\n\\n\\n\\n\\n\\n\\n\\n\\n\\n\\n\\n\\n\\n\\n\\n\\n\\n\\n\\n\\n\\n//<![CDATA[\\n      // i18n\\n        var PRINT_PAGE_TEXT = \\'Seite drucken\\';\\n        var PRINT_TOOLTIP = \\'Artikel drucken (öffnet Dialog)\\';\\n        var SCALE_IMG = \\'Schriftgröße\\';\\n        var SCALE_IMG_LARGE = \\'Schriftgröße vergrößern\\';\\n        var SCALE_IMG_NORMAL = \\'Schriftgröße verkleinern\\';\\n        var SHOW_MORE = \\'mehr anzeigen\\';\\nwindow.LABEL_MOREDETAILS = \\'mehr anzeigen\\';\\nwindow.LABEL_LESSDETAILS = \\'weniger anzeigen\\'; \\n      //]]>\\n    \\n\\n\\n\\n\\n\\nNavigation und Service\\nSpringe direkt zu:\\n\\nInhalt\\nHauptmenu\\nSuche\\n\\n\\n\\n\\n\\n\\n\\nServicemenü\\nKon\\xadtaktIn\\xadhaltHil\\xadfeIm\\xadpres\\xads\\xadumDa\\xadten\\xadschut\\xadz\\xader\\xadklä\\xadrungRSSEnglish\\n\\n\\n\\n\\nGebärdensprache\\n\\n\\nLeichte Sprache\\n\\n\\n\\n\\nSuche\\n\\n\\n\\n\\n\\n\\n\\n\\n\\n\\n\\n\\n\\n\\n\\n\\n\\nKontakt\\nNavigation\\n\\n\\n\\nZielgruppeneinstiege\\n\\n\\n\\n\\nInfektionskrankheiten A-Z\\n\\n\\n\\nA\\nB\\nC\\nD\\nE\\nF\\nG\\nH\\nI\\nJ\\nK\\nL\\nM\\nN\\nO\\nP\\nQ\\nR\\nS\\nT\\nU\\nV\\nW\\nX\\nY\\nZ\\nalle\\n\\n\\n\\n\\n\\n\\n\\n\\nGesundheit A-Z\\n\\n\\n\\nA\\nB\\nC\\nD\\nE\\nF\\nG\\nH\\nI\\nJ\\nK\\nL\\nM\\nN\\nO\\nP\\nQ\\nR\\nS\\nT\\nU\\nV\\nW\\nX\\nY\\nZ\\nalle\\n\\n\\n\\n\\n\\n\\n\\nNavigation\\n\\nIn\\xadsti\\xadtut\\nGe\\xadsund\\xadheits\\xadmo\\xadni\\xadto\\xadring\\nIn\\xadfek\\xadti\\xadons\\xadschutz\\nForschung\\nKom\\xadmis\\xadsio\\xadnen\\nSer\\xadvice\\n\\n\\n\\n\\n\\n\\nZielgruppeneinstiege\\n\\n\\n\\n\\nIn\\xadsti\\xadtut\\n\\n\\n\\n\\nDer Hauptsitz des Robert Koch-Instituts (RKI) in Berlin.\\nWeiter lesen\\n\\n\\n\\nInstitut\\nLeitbild\\n\\nPublic Health\\n\\nLeitung des Instituts\\n\\nOrganisation und Aufgaben\\n\\nNationale Referenzzentren\\n\\nWHO-Kooperationszentren\\n\\nWissenschaftlicher Beirat\\n\\n\\n\\nInternationales\\n\\nMuseum und Kunst\\n\\nAusbau und Zukunft\\n\\nGeschichte\\n\\nGesetzliche Grundlagen\\n\\nMitteilungen zum RKI\\n\\nKorruptionsvorsorge\\n\\nTag des Gesundheitsamtes\\n\\n\\n\\nWissenswertes aus dem Bereich\\nInstitutsbroschüre \"Gesundheit schützen, Risiken erforschen\"Organigramm des RKIMitteilungen zum Institut \\n\\n\\n\\n\\n\\nGe\\xadsund\\xadheits\\xadmo\\xadni\\xadto\\xadring\\n\\n\\n\\n\\nDas RKI erhebt im Rahmen seines Gesundheitsmonitorings regelmäßig Gesundheitsdaten der Bevölkerung.\\nWeiter lesen\\n\\n\\n\\nGesundheitsmonitoring\\nJournal of Health Monitoring\\n\\nDiabetes mellitus\\n\\nKinder- und Jugendgesundheit\\n\\nPsychische Gesundheit\\n\\nSozialer Status\\n\\nÜbergewicht und Adipositas\\n\\n\\n\\nAlle Themenschwerpunkte\\n\\nGesundheitsberichterstattung\\n\\nKrebsregisterdaten\\n\\nStudien und Surveillance\\n\\nSurveydaten nutzen\\n\\nZahl des Monats\\n\\n\\n\\nWissenswertes aus dem Bereich\\nGesundheit in Deutschland – die wichtigsten EntwicklungenNutzung von SurveydatenBericht „Gesundheit in Deutschland“KiGGS Welle 1: Faktenblätter\\n\\n\\n\\n\\n\\nIn\\xadfek\\xadti\\xadons\\xadschutz\\n\\n\\n\\n\\nHIV-1 - Human immunodeficiency virus 1 (Retroviren) Reife Virionen (rote Hülle) sammeln sich an der Oberfläche eines T-Lymphozyten (Wirtszelle). Transmissions-Elektronenmikroskopie, Ultradünnschnitt.\\nWeiter lesen\\n\\n\\n\\nInfektionsschutz\\nAntibiotikaresistenz\\n\\nAusbrüche von Infektionskrankheiten\\n\\nBiologische Gefahren\\n\\nBlut/Transfusionsmedizin\\n\\nEpidemiologisches Bulletin\\n\\nImpfen\\n\\nInfektions\\xadepi\\xadde\\xadmio\\xadlogisches Jahrbuch\\n\\nInfektionsschutzgesetz\\n\\nInternationale Gesundheitsvorschriften\\n\\n\\n\\nInfektions- und Krankenhaushygiene\\n\\nMikrobiologische Unter\\xadsuchungen am RKI von A-Z\\n\\nNRZ und Konsiliarlabore\\n\\nPreparedness and Response\\n\\nPriorisierung von Erregern\\n\\nRKI-Ratgeber\\n\\nSpeziallaboratorien\\n\\nSentinels\\n\\nSurvStat\\n\\n\\n\\nWissenswertes aus dem Bereich\\nGesundheitsamt nach PostleitzahlFAQ Antibiotika\\xadresistenz und Noso\\xadkomiale Infek\\xadtionenEM-Aufnahmen von ErregernMRSAESBL-Bildner\\n\\n\\n\\n\\n\\nForschung\\n\\n\\n\\n\\nKoloniewachstum eines aeroben Sporenbildners (Bacillus sp.) auf Blutagar ohne Hämolyse.\\nWeiter lesen\\n\\n\\n\\nForschung\\nForschungskoordination\\n\\nForschungsagenda des RKI\\n\\nForschungsmethoden\\n\\nForschungsdatenzentrum\\n\\nRKI Panel\\n\\nProjektgruppen\\n\\nNachwuchsgruppen\\n\\n\\n\\nGraduiertenkolleg\\n\\nRKI-Publikationen in Fachzeitschriften und -büchern\\n\\nRobert Koch-Fellow-Programm\\n\\nVersuchstierhaltung\\n\\nUmgang mit Dual-Use-Risiken am RKI\\n\\nGute Wissenschaftliche Praxis\\n\\n\\n\\nWissenswertes aus dem Bereich\\nForschung in den Abteilungen\\n\\n\\n\\n\\n\\nKom\\xadmis\\xadsio\\xadnen\\n\\n\\n\\n\\nZahlreiche wissenschaftliche Kommissionen haben ihre Geschäftsstelle am RKI\\nWeiter lesen\\n\\n\\n\\nKommissionen\\nArbeitskreis Blut\\n\\nArbeitskreis STAKOB\\n\\nBeirat des Zentrums für Krebsregisterdaten\\n\\nExpertenbeirat Influenza\\n\\nGendiagnostik-Kommission\\n\\nHerausgeberbeirat Bundesgesundheitsblatt\\n\\nKommission Antiinfektiva, Resistenz und Therapie\\n\\nKommission für Gesundheitsbericht\\xaderstattung und Gesundheitsmonitoring\\n\\n\\n\\nKommission für Kranken\\xadhaus\\xadhygiene und Infektions\\xadprävention\\n\\nKommission Umweltmedizin und Environmental Public Health\\n\\nNationale Kommission für die Polioeradikation in Deutschland\\n\\nNationale Verifizierungskommission Masern/Röteln\\n\\nStändige Impfkommission\\n\\nWissenschaftlicher Beirat Diabetes Surveillance\\n\\nWissenschaftlicher Beirat für Public Health Mikrobiologie\\n\\nZentrale Ethik-Kommission für Stammzellenforschung\\n\\n\\n\\nWissenswertes aus dem Bereich\\nEmpfehlungen der STIKOEmpfehlungen der KRINKOVoten des Arbeitskreises BlutRichtlinien der GEKORichtlinie der GEKO im AnhörungsverfahrenStammzellregisterStellungnahmen der Kommission Umweltmedizin und Environmental Public Health\\n\\n\\n\\n\\n\\nSer\\xadvice\\n\\n\\n\\n\\n\\nWeiter lesen\\n\\n\\n\\nService\\nPressestelle\\n\\nNewsletter, Soziale Medien und RSS\\n\\nKarriere\\n\\nBerufliche Inklusion\\n\\nAusschreibungen\\n\\nPublikationen\\n\\n\\n\\nBibliothek\\n\\nVeranstaltungen und Termine\\n\\nSpenden an das RKI\\n\\nSozialberatung für Berliner\\nBundesbehörden\\n\\n\\n\\nWissenswertes aus dem Bereich\\nPublikationsserver edoc des RKIPraktikum in der Presse- und Öffent\\xadlich\\xadkeits\\xadarbeit des RKI (2.1.2020)Promotion Diplom Bachelor Master\\n\\n\\n\\n\\n\\n\\n\\n\\n\\n\\n\\n\\n\\n\\n\\nHinweis zum Einsatz von Cookies\\nMit dem Klick auf \"Erlauben\" erklären Sie sich damit einverstanden, dass wir Ihren Aufenthalt auf der Seite anonymisiert aufzeichnen. Die Auswertungen enthalten keine personenbezogenen Daten und werden ausschließlich zur Analyse, Pflege und Verbesserung unseres Internetauftritts eingesetzt. Weitere Informationen zum Datenschutz erhalten Sie über den folgenden Link:\\nDatenschutz\\n\\n\\n\\nOK\\n\\n\\n\\n\\n\\n\\n\\nSie sind hier:\\nStartseiteInfektionskrankheiten A-ZCoronavirus SARS-CoV-2COVID-19: Fallzahlen in Deutschland und weltweit\\n\\n\\n\\nBereichsmenu\\nCoronavirus SARS-CoV-2\\n\\n\\n\\n\\n\\n\\nCOVID-19: Fallzahlen in Deutschland und weltweit\\n\\nFallzahlen in Deutschland\\nStand: 4.9.2020, 00:00 Uhr (online aktualisiert um 16:40 Uhr)\\nDie Differenz zum Vortag bezieht sich auf Fälle, die dem RKI täglich übermittelt werden. Dies beinhaltet Fälle, die am gleichen Tag oder bereits an früheren Tagen an das Gesundheitsamt gemeldet worden sind.\\nHinweis: Das RKI hat den Datenstand von heute Morgen korrigiert. Die Fallzahlen entsprechen jetzt dem Datenstand von heute 00:00 Uhr.\\nBundes\\xadlandElektro\\xadnisch über\\xadmittelte FälleAn\\xadzahlDif\\xadfe\\xadrenz\\nzum \\nVor\\xadtagFälle\\nin den \\nletzten\\n7 Tagen7-Tage-\\nInzi\\xaddenzTodes\\xadfälleBaden-Württem\\xadberg42.925+3111.40412,71.865Bayern58.385+3081.52511,72.641Berlin11.529+9845912,2226Branden\\xadburg3.902+4301,2169Bremen2.048+119213,558Hamburg6.396+4519210,4267Hessen15.912+13664010,2535Meck\\xadlenburg-\\nVor\\xadpommern1.019+4161,020Nieder\\xadsachsen17.133+1414986,2665Nord\\xadrhein-West\\xadfalen59.811+2841.5448,61.821Rhein\\xadland-Pfalz9.260+483508,6243Saarland3.176+8596,0174Sachsen6.095+301624,0225Sachsen-Anhalt2.263+3401,866Schles\\xadwig-Holstein4.107+161063,7161Thüringen3.658+6602,8186Gesamt247.619+1.4537.1778,69.322\\n \\nDetaillierte Fallzahlen in Deutschland: Dashboard \\nEine detaillierte Darstellung der übermittelten COVID-19-Fälle in Deutschland nach Landkreis und Bundesland stellt das COVID-19-Dashboard (https://corona.rki.de) bereit.\\nHinweise zum Dashboard:\\nFür die Gesamtzahl pro Bundesland/Landkreis werden die den Gesundheitsämtern nach Infektionsschutzgesetz gemeldeten Fälle verwendet, die dem RKI bis zum jeweiligen Tag um 0 Uhr übermittelt wurden. \\nFür die Darstellung der neu übermittelten Fälle pro Tag wird das Meldedatum verwendet – das Datum, an dem das lokale Gesundheitsamt Kenntnis über den Fall erlangt und ihn elektronisch erfasst hat.\\nZwischen der Meldung durch die Ärzte und Labore an das Gesundheitsamt und der Übermittlung der Fälle an die zuständigen Landesbehörden und das RKI können einige Tage vergehen (Melde- und Übermittlungsverzug). Jeden Tag werden dem RKI neue Fälle übermittelt, die am gleichen Tag oder bereits an früheren Tagen an das Gesundheitsamt gemeldet worden sind. Diese Fälle werden in der Grafik Neue COVID-19-Fälle/Tag dann bei dem jeweiligen Datum ergänzt. \\nDer genaue Infektionszeitpunkt der gemeldeten Fälle kann in aller Regel nicht ermittelt werden. Das Meldedatum an das Gesundheitsamt spiegelt daher am besten den Zeitpunkt der Feststellung der Infektion (Diagnosedatum) und damit das aktuelle Infektionsgeschehen wider. Durch den Meldeverzug sind die Daten die letzten Tage in der Grafik noch unvollständig und füllen sich mit den in den kommenden Tagen nachfolgend übermittelten Daten auf. Aus dem Verlauf der übermittelten Daten allein lässt sich daher kein Trend zu den aktuell erfolgten Neuinfektionen ablesen. \\nFür eine detailliertere Analyse der der COVID-19-Fälle siehe bitte den täglichen Lagebericht des RKI .\\nStand: 26.03.2020\\n\\nnach oben\\n\\n\\n\\nHinweise zur Erfassung und Veröffentlichung von COVID-19-Fallzahlen\\nEs werden die bundesweit einheitlich erfassten und an das Robert Koch-Institut (RKI) übermittelten Daten zu bestätigten COVID-19-Fällen dargestellt. COVID-19-Verdachtsfälle und - Erkrankungen sowie Nachweise von SARS-CoV-2 werden gemäß Infektionsschutzgesetz an das zuständige Gesundheitsamt gemeldet. Die Gesundheitsämter ermitteln ggf. zusätzliche Informationen, bewerten den Fall und leiten die notwendigen Infektionsschutzmaßnahmen ein.\\nDie Daten werden gemäß Infektionsschutzgesetz spätestens am nächsten Arbeitstag vom Gesundheitsamt elektronisch an die zuständige Landesbehörde und von dort an das RKI übermittelt. In der aktuellen Lage übermitteln die meisten Ämter sogar täglich. Am RKI werden sie mittels weitgehend automatisierter Algorithmen validiert.\\nEs werden nur Fälle veröffentlicht, bei denen eine labordiagnostische Bestätigung (unabhängig vom klinischen Bild) vorliegt. Die Daten werden am RKI einmal täglich jeweils um 0:00 Uhr aktualisiert. Durch die Dateneingabe und Datenübermittlung entsteht von dem Zeitpunkt des Bekanntwerdens des Falls bis zur Veröffentlichung durch das RKI ein Zeitverzug, sodass es Abweichungen hinsichtlich der Fallzahlen zu anderen Quellen geben kann.\\n\\nIn der aktuellen Krise werden die Daten des infektionsepidemiologischen Meldewesens zu COVID-19 mit einem möglichst geringen Zeitverzug publiziert. Dies trägt der sehr hohen Dynamik der Lage Rechnung. Allerdings werden hierdurch zuweilen auch Daten vor Qualitätskontrollen und Validierungen veröffentlicht. Durch weitere Ermittlungen der Gesundheitsämter und Plausibilitätsprüfungen kann es zu Nachträgen oder Korrekturen kommen, was vereinzelt zu Abweichungen gegenüber den zuvor berichteten Daten führt. Auch Abweichungen nach unten sind möglich, etwa, wenn ein Fall nach der Ermittlung des Wohnortes einem anderen Gesundheitsamt zugewiesen wird.\\xa0 Dies ist Ausdruck der kontinuierlichen Qualitätssicherung durch die zuständigen Behörden.\\n\\nFür eine detailliertere Analyse der der COVID-19-Fälle siehe bitte den täglichen Lagebericht des RKI, für detaillierte Zahlen nach Landkreis bitte das Dashboard (https://corona.rki.de).\\nStand: 12.05.2020\\n\\nnach oben\\n\\n\\nFallzahlen weltweit\\nDie tagesaktuellen Fallzahlen weltweit sind auf den Internetseiten der Weltgesundheitsorganisation und des Europäischen Zentrums für die Prävention und Kontrolle von Krankheiten (ECDC) abrufbar.\\n\\nWeitere Informationen\\n\\nTägliche Situationsberichte (deutsch und englisch)\\nRKI-Seite zu COVID-19, u.a. mit Hinweisen zu Diagnostik, Hygiene und Infektionskontrolle\\n\\nStand: 04.09.2020nach oben\\n\\n\\n\\n\\n\\n\\n\\nZusatzinformationen\\n\\n\\nInfektionskrankheiten A-Z\\n\\n\\n\\nA\\nB\\nC\\nD\\nE\\nF\\nG\\nH\\nI\\nJ\\nK\\nL\\nM\\nN\\nO\\nP\\nQ\\nR\\nS\\nT\\nU\\nV\\nW\\nX\\nY\\nZ\\nalle\\n\\n\\n\\n\\n\\n\\n\\n\\nGesundheit A-Z\\n\\n\\n\\nA\\nB\\nC\\nD\\nE\\nF\\nG\\nH\\nI\\nJ\\nK\\nL\\nM\\nN\\nO\\nP\\nQ\\nR\\nS\\nT\\nU\\nV\\nW\\nX\\nY\\nZ\\nalle\\n\\n\\n\\n\\n\\n\\n\\n\\nNeu\\n\\n\\n\\nContainment Scout: Aktuelle Stellenausschreibung (Bewerbungsfrist bis zum 14.09.2020) und Informationen zur Tätigkeit. Helfen Sie uns, Infektionsketten zu durchbrechen! (4.9.2020) \\n\\n\\n\\n\\n\\nAllgemeine Hinweise für Gesundheitsbehörden zur Kontaktaufnahme und Zusammenarbeit mit marginalisierten Bevölkerungsgruppen (3.9.2020)\\n\\n\\n\\n\\n\\nHöhere Letalität und lange Beatmungs\\xaddauer unter\\xadscheiden COVID-19 von schwer verlau\\xadfenden Atem\\xadwegs\\xadinfektionen in Grippe\\xadwellen, Epid Bull 41/2020 online vorab (28.8.2020)\\n\\n\\n\\n\\n\\nStudie CORONA-MONITORING lokal, Bad Feiln\\xadbach: Fact\\xadsheet mit ersten Eck\\xaddaten zu Ergeb\\xadnissen, Metho\\xaddik, Unter\\xadsuchungs\\xadprogramm (25.8.2020)\\n\\n\\n\\n\\n\\n\\n\\n\\nAktualisiert\\n\\n\\n\\nAntworten auf häufig gestellte Fragen zu COVID-19 (4.9.2020)\\n\\n\\n\\n\\n\\nSteckbrief zu COVID-19 (4.9.2020) \\n\\n\\n\\n\\n\\nCorona-Warn-App: Kennzahlen und FAQ aktualisiert (3.9.2020)\\n\\n\\n\\n\\n\\nRisikobewertung zu COVID-19 (2.9.2020)\\n\\n\\n\\n\\n\\nInformationen zur Aus\\xadweisung inter\\xadnatio\\xadnaler Risiko\\xadgebiete durch das Auswärtige Amt, BMG und BMI (2.9.2020)\\n\\n\\n\\n\\n\\nSero\\xadepidemio\\xadlogische Studien in Deutschland (2.9.2020) \\n\\n\\n\\n\\n\\nSteckbrief zu COVID-19 (4.9.2020) \\n\\n\\n\\n\\n\\nAussteigekarte für Einreise nach Deutschland in weiteren Sprachen verfügbar (21.8.2020)\\n\\n\\n\\n\\n\\nInformation für Reisende in weiteren Sprachen verfügbar (21.8.2020)\\n\\n\\n\\n\\n\\nPrävention und Management in Alten- und Pflege\\xadein\\xadrich\\xadtungen und Ein\\xadrich\\xadtungen für Menschen mit Beein\\xadträch\\xadti\\xadgungen und Behinderungen (18.8.2020)\\n\\n\\n\\n\\n\\n\\n\\n\\nRKI-News\\xadletter In\\xadfek\\xadtions\\xadschutz: Aus\\xadgabe vom 1.9.2020\\n\\n\\n\\n\\n\\n\\n\\n\\nRSS-Feed zu COVID-19 (Coronavirus SARS-CoV-2)\\n\\n\\n\\n\\n\\n\\n\\n\\n\\n\\n\\n\\n\\n\\n\\nIn\\xadsti\\xadtut\\nLeitbild\\n\\nPublic Health\\n\\nLeitung des Instituts\\n\\nOrganisation und Aufgaben\\n\\nNationale Referenzzentren\\n\\nWHO-Kooperationszentren\\n\\nWissenschaftlicher Beirat\\n\\nInternationales\\n\\nMuseum und Kunst\\n\\nAusbau und Zukunft \\n\\nGeschichte\\n\\nGesetzliche Grundlagen\\n\\nMitteilungen zum RKI\\n\\nKorruptionsvorsorge\\n\\nTag des Gesundheitsamtes\\n\\n\\n\\nGesundheitsmonitoring\\nJournal of Health Monitoring\\n\\nDiabetes mellitus\\n\\nKinder- und Jugendgesundheit\\n\\nPsychische Gesundheit\\n\\nSozialer Status\\n\\nÜbergewicht und Adipositas\\n\\nAlle Themenschwerpunkte\\n\\nGesundheitsberichterstattung\\n\\nKrebsregisterdaten\\n\\nStudien und Surveillance\\n\\nSurveydaten nutzen\\n\\nZahl des Monats\\n\\n\\n\\nIn\\xadfek\\xadti\\xadons\\xadschutz\\nAntibiotikaresistenz\\n\\nAusbrüche von Infektionskrankheiten\\n\\nBiologische Gefahren\\n\\nBlut/Transfusionsmedizin\\n\\nEpidemiologisches Bulletin\\n\\nImpfen\\n\\nInfektions\\xadepi\\xadde\\xadmio\\xadlogisches Jahrbuch\\n\\nInfektionsschutzgesetz\\n\\nInternationale Gesundheitsvorschriften\\n\\nInfektions- und Krankenhaushygiene\\n\\nMikrobiologische Unter\\xadsuchungen am RKI von A-Z\\n\\nNRZ und Konsiliarlabore\\n\\nPreparedness and Response\\n\\nPriorisierung von Erregern\\n\\nRKI-Ratgeber\\n\\nSpeziallaboratorien\\n\\nSentinels\\n\\nSurvStat\\n\\n\\n\\nForschung\\nForschungskoordination\\n\\nForschungsagenda des RKI\\n\\nForschungsmethoden\\n\\nForschungsdatenzentrum\\n\\nRKI Panel\\n\\nProjektgruppen\\n\\nNachwuchsgruppen\\n\\nGraduiertenkolleg\\n\\nRKI-Publikationen in Fachzeitschriften und -büchern\\n\\nRobert Koch-Fellow-Programm\\n\\nVersuchstierhaltung\\n\\nUmgang mit Dual-Use-Risiken am RKI\\n\\nGute Wissenschaftliche Praxis\\n\\n\\n\\nKom\\xadmis\\xadsio\\xadnen\\nArbeitskreis Blut\\n\\nArbeitskreis STAKOB\\n\\nBeirat des Zentrums für Krebsregisterdaten \\n\\nExpertenbeirat Influenza\\n\\nGendiagnostik-Kommission\\n\\nHerausgeberbeirat Bundesgesundheitsblatt\\n\\nKommission Antiinfektiva, Resistenz und Therapie\\n\\nKommission für Gesundheitsbericht\\xaderstattung und Gesundheitsmonitoring \\n\\nKommission für Kranken\\xadhaus\\xadhygiene und Infektions\\xadprävention\\n\\nKommission Umweltmedizin und Environmental Public Health\\n\\nNationale Kommission für die Polioeradikation in Deutschland\\n\\nNationale Verifizierungskommission Masern/Röteln\\n\\nStändige Impfkommission\\n\\nWissenschaftlicher Beirat Diabetes Surveillance\\n\\nWissenschaftlicher Beirat für Public Health Mikrobiologie\\n\\nZentrale Ethik-Kommission für Stammzellenforschung\\n\\n\\n\\nSer\\xadvice\\nPressestelle\\n\\nNewsletter, Soziale Medien und RSS\\n\\nKarriere\\n\\nBerufliche Inklusion\\n\\nAusschreibungen\\n\\nPublikationen\\n\\nBibliothek\\n\\nVeranstaltungen und Termine\\n\\nSpenden an das RKI\\n\\nSozialberatung für Berliner \\nBundesbehörden\\n\\n\\n\\n\\nDas Robert Koch-Institut ist ein Bundesinstitut im Geschäftsbereich des Bundesministeriums für Gesundheit\\n\\n\\n© Robert Koch-Institut\\nAlle Rechte vorbehalten, soweit nicht ausdrücklich anders vermerkt.\\n\\n\\n\\n\\n\\n\\nnach oben\\n\\n\\n\\nNavigation\\n\\nStartseite\\nInfektionskrankheiten A-Z\\nCoronavirus SARS-CoV-2\\n\\n\\nServicemenü\\nKon\\xadtaktIn\\xadhaltHil\\xadfeIm\\xadpres\\xads\\xadumDa\\xadten\\xadschut\\xadz\\xader\\xadklä\\xadrungRSSEnglish\\n\\n\\n\\n\\n'"
      ]
     },
     "execution_count": 11,
     "metadata": {},
     "output_type": "execute_result"
    }
   ],
   "source": [
    "soup.get_text()"
   ]
  },
  {
   "cell_type": "code",
   "execution_count": 12,
   "metadata": {},
   "outputs": [],
   "source": [
    "html_table=soup.find('table')"
   ]
  },
  {
   "cell_type": "code",
   "execution_count": 13,
   "metadata": {},
   "outputs": [],
   "source": [
    "all_rows=html_table.find_all('tr')"
   ]
  },
  {
   "cell_type": "code",
   "execution_count": 14,
   "metadata": {},
   "outputs": [],
   "source": [
    "final_data_list=[]"
   ]
  },
  {
   "cell_type": "code",
   "execution_count": 15,
   "metadata": {},
   "outputs": [],
   "source": [
    "for pos,rows in enumerate(all_rows):\n",
    "    \n",
    "    col_list=[each_col.get_text(strip=True) for each_col in rows.find_all('td')]\n",
    "    final_data_list.append(col_list)"
   ]
  },
  {
   "cell_type": "code",
   "execution_count": 16,
   "metadata": {},
   "outputs": [],
   "source": [
    "pd_daily_status=pd.DataFrame(final_data_list).dropna().rename(columns={0:'state',\n",
    "                                                                      1:'cases',\n",
    "                                                                      2:'changes',\n",
    "                                                                      3:'cases_per_100k',\n",
    "                                                                      4:'fatal',\n",
    "                                                                      5:'comment'})"
   ]
  },
  {
   "cell_type": "code",
   "execution_count": 17,
   "metadata": {},
   "outputs": [
    {
     "data": {
      "text/html": [
       "<div>\n",
       "<style scoped>\n",
       "    .dataframe tbody tr th:only-of-type {\n",
       "        vertical-align: middle;\n",
       "    }\n",
       "\n",
       "    .dataframe tbody tr th {\n",
       "        vertical-align: top;\n",
       "    }\n",
       "\n",
       "    .dataframe thead th {\n",
       "        text-align: right;\n",
       "    }\n",
       "</style>\n",
       "<table border=\"1\" class=\"dataframe\">\n",
       "  <thead>\n",
       "    <tr style=\"text-align: right;\">\n",
       "      <th></th>\n",
       "      <th>state</th>\n",
       "      <th>cases</th>\n",
       "      <th>changes</th>\n",
       "      <th>cases_per_100k</th>\n",
       "      <th>fatal</th>\n",
       "      <th>comment</th>\n",
       "    </tr>\n",
       "  </thead>\n",
       "  <tbody>\n",
       "    <tr>\n",
       "      <th>2</th>\n",
       "      <td>Baden-Württem­berg</td>\n",
       "      <td>42.925</td>\n",
       "      <td>+311</td>\n",
       "      <td>1.404</td>\n",
       "      <td>12,7</td>\n",
       "      <td>1.865</td>\n",
       "    </tr>\n",
       "    <tr>\n",
       "      <th>3</th>\n",
       "      <td>Bayern</td>\n",
       "      <td>58.385</td>\n",
       "      <td>+308</td>\n",
       "      <td>1.525</td>\n",
       "      <td>11,7</td>\n",
       "      <td>2.641</td>\n",
       "    </tr>\n",
       "    <tr>\n",
       "      <th>4</th>\n",
       "      <td>Berlin</td>\n",
       "      <td>11.529</td>\n",
       "      <td>+98</td>\n",
       "      <td>459</td>\n",
       "      <td>12,2</td>\n",
       "      <td>226</td>\n",
       "    </tr>\n",
       "    <tr>\n",
       "      <th>5</th>\n",
       "      <td>Branden­burg</td>\n",
       "      <td>3.902</td>\n",
       "      <td>+4</td>\n",
       "      <td>30</td>\n",
       "      <td>1,2</td>\n",
       "      <td>169</td>\n",
       "    </tr>\n",
       "    <tr>\n",
       "      <th>6</th>\n",
       "      <td>Bremen</td>\n",
       "      <td>2.048</td>\n",
       "      <td>+11</td>\n",
       "      <td>92</td>\n",
       "      <td>13,5</td>\n",
       "      <td>58</td>\n",
       "    </tr>\n",
       "  </tbody>\n",
       "</table>\n",
       "</div>"
      ],
      "text/plain": [
       "                state   cases changes cases_per_100k fatal comment\n",
       "2  Baden-Württem­berg  42.925    +311          1.404  12,7   1.865\n",
       "3              Bayern  58.385    +308          1.525  11,7   2.641\n",
       "4              Berlin  11.529     +98            459  12,2     226\n",
       "5        Branden­burg   3.902      +4             30   1,2     169\n",
       "6              Bremen   2.048     +11             92  13,5      58"
      ]
     },
     "execution_count": 17,
     "metadata": {},
     "output_type": "execute_result"
    }
   ],
   "source": [
    "pd_daily_status.head()"
   ]
  },
  {
   "cell_type": "markdown",
   "metadata": {},
   "source": [
    "# Rest API calls"
   ]
  },
  {
   "cell_type": "code",
   "execution_count": 18,
   "metadata": {},
   "outputs": [],
   "source": [
    "data=requests.get('https://services7.arcgis.com/mOBPykOjAyBO2ZKk/arcgis/rest/services/Coronaf%C3%A4lle_in_den_Bundesl%C3%A4ndern/FeatureServer/0/query?where=1%3D1&outFields=*&outSR=4326&f=json')"
   ]
  },
  {
   "cell_type": "code",
   "execution_count": 19,
   "metadata": {},
   "outputs": [],
   "source": [
    "import json"
   ]
  },
  {
   "cell_type": "code",
   "execution_count": 20,
   "metadata": {},
   "outputs": [],
   "source": [
    "json_object=json.loads(data.content)"
   ]
  },
  {
   "cell_type": "code",
   "execution_count": 21,
   "metadata": {},
   "outputs": [
    {
     "data": {
      "text/plain": [
       "dict"
      ]
     },
     "execution_count": 21,
     "metadata": {},
     "output_type": "execute_result"
    }
   ],
   "source": [
    "type(json_object)"
   ]
  },
  {
   "cell_type": "code",
   "execution_count": 22,
   "metadata": {},
   "outputs": [],
   "source": [
    "full_list=[]\n",
    "for pos,each_dict in enumerate(json_object['features'][:]):\n",
    "    full_list.append(each_dict['attributes'])"
   ]
  },
  {
   "cell_type": "code",
   "execution_count": 23,
   "metadata": {
    "scrolled": true
   },
   "outputs": [
    {
     "data": {
      "text/html": [
       "<div>\n",
       "<style scoped>\n",
       "    .dataframe tbody tr th:only-of-type {\n",
       "        vertical-align: middle;\n",
       "    }\n",
       "\n",
       "    .dataframe tbody tr th {\n",
       "        vertical-align: top;\n",
       "    }\n",
       "\n",
       "    .dataframe thead th {\n",
       "        text-align: right;\n",
       "    }\n",
       "</style>\n",
       "<table border=\"1\" class=\"dataframe\">\n",
       "  <thead>\n",
       "    <tr style=\"text-align: right;\">\n",
       "      <th></th>\n",
       "      <th>OBJECTID_1</th>\n",
       "      <th>LAN_ew_AGS</th>\n",
       "      <th>LAN_ew_GEN</th>\n",
       "      <th>LAN_ew_BEZ</th>\n",
       "      <th>LAN_ew_EWZ</th>\n",
       "      <th>OBJECTID</th>\n",
       "      <th>Fallzahl</th>\n",
       "      <th>Aktualisierung</th>\n",
       "      <th>AGS_TXT</th>\n",
       "      <th>GlobalID</th>\n",
       "      <th>faelle_100000_EW</th>\n",
       "      <th>Shape__Area</th>\n",
       "      <th>Shape__Length</th>\n",
       "      <th>Death</th>\n",
       "    </tr>\n",
       "  </thead>\n",
       "  <tbody>\n",
       "    <tr>\n",
       "      <th>0</th>\n",
       "      <td>1</td>\n",
       "      <td>01</td>\n",
       "      <td>Schleswig-Holstein</td>\n",
       "      <td>Land</td>\n",
       "      <td>2896712</td>\n",
       "      <td>15</td>\n",
       "      <td>4107</td>\n",
       "      <td>1599170400000</td>\n",
       "      <td>01</td>\n",
       "      <td>fc5ba936-c95c-432c-8a33-9eb2f30b660f</td>\n",
       "      <td>141.781440</td>\n",
       "      <td>4.573731e+10</td>\n",
       "      <td>2.881496e+06</td>\n",
       "      <td>161</td>\n",
       "    </tr>\n",
       "    <tr>\n",
       "      <th>1</th>\n",
       "      <td>2</td>\n",
       "      <td>02</td>\n",
       "      <td>Hamburg</td>\n",
       "      <td>Freie und Hansestadt</td>\n",
       "      <td>1841179</td>\n",
       "      <td>6</td>\n",
       "      <td>6396</td>\n",
       "      <td>1599170400000</td>\n",
       "      <td>02</td>\n",
       "      <td>0f3e860c-5181-4d3f-a421-1d51f50315ea</td>\n",
       "      <td>347.386104</td>\n",
       "      <td>2.089396e+09</td>\n",
       "      <td>4.188002e+05</td>\n",
       "      <td>267</td>\n",
       "    </tr>\n",
       "    <tr>\n",
       "      <th>2</th>\n",
       "      <td>3</td>\n",
       "      <td>03</td>\n",
       "      <td>Niedersachsen</td>\n",
       "      <td>Land</td>\n",
       "      <td>7982448</td>\n",
       "      <td>9</td>\n",
       "      <td>17133</td>\n",
       "      <td>1599170400000</td>\n",
       "      <td>03</td>\n",
       "      <td>3fd77024-c29b-4843-9be8-682ad48e60c9</td>\n",
       "      <td>214.633406</td>\n",
       "      <td>1.299836e+11</td>\n",
       "      <td>4.008988e+06</td>\n",
       "      <td>665</td>\n",
       "    </tr>\n",
       "    <tr>\n",
       "      <th>3</th>\n",
       "      <td>4</td>\n",
       "      <td>04</td>\n",
       "      <td>Bremen</td>\n",
       "      <td>Freie Hansestadt</td>\n",
       "      <td>682986</td>\n",
       "      <td>5</td>\n",
       "      <td>2048</td>\n",
       "      <td>1599170400000</td>\n",
       "      <td>04</td>\n",
       "      <td>4132268b-54de-4327-ac1e-760e915112f1</td>\n",
       "      <td>299.859734</td>\n",
       "      <td>1.119157e+09</td>\n",
       "      <td>3.357177e+05</td>\n",
       "      <td>58</td>\n",
       "    </tr>\n",
       "    <tr>\n",
       "      <th>4</th>\n",
       "      <td>5</td>\n",
       "      <td>05</td>\n",
       "      <td>Nordrhein-Westfalen</td>\n",
       "      <td>Land</td>\n",
       "      <td>17932651</td>\n",
       "      <td>10</td>\n",
       "      <td>59811</td>\n",
       "      <td>1599170400000</td>\n",
       "      <td>05</td>\n",
       "      <td>561d658f-3ee5-46e3-bc95-3528c6558ab9</td>\n",
       "      <td>333.531278</td>\n",
       "      <td>8.782936e+10</td>\n",
       "      <td>2.648673e+06</td>\n",
       "      <td>1821</td>\n",
       "    </tr>\n",
       "  </tbody>\n",
       "</table>\n",
       "</div>"
      ],
      "text/plain": [
       "   OBJECTID_1 LAN_ew_AGS           LAN_ew_GEN            LAN_ew_BEZ  \\\n",
       "0           1         01   Schleswig-Holstein                  Land   \n",
       "1           2         02              Hamburg  Freie und Hansestadt   \n",
       "2           3         03        Niedersachsen                  Land   \n",
       "3           4         04               Bremen      Freie Hansestadt   \n",
       "4           5         05  Nordrhein-Westfalen                  Land   \n",
       "\n",
       "   LAN_ew_EWZ  OBJECTID  Fallzahl  Aktualisierung AGS_TXT  \\\n",
       "0     2896712        15      4107   1599170400000      01   \n",
       "1     1841179         6      6396   1599170400000      02   \n",
       "2     7982448         9     17133   1599170400000      03   \n",
       "3      682986         5      2048   1599170400000      04   \n",
       "4    17932651        10     59811   1599170400000      05   \n",
       "\n",
       "                               GlobalID  faelle_100000_EW   Shape__Area  \\\n",
       "0  fc5ba936-c95c-432c-8a33-9eb2f30b660f        141.781440  4.573731e+10   \n",
       "1  0f3e860c-5181-4d3f-a421-1d51f50315ea        347.386104  2.089396e+09   \n",
       "2  3fd77024-c29b-4843-9be8-682ad48e60c9        214.633406  1.299836e+11   \n",
       "3  4132268b-54de-4327-ac1e-760e915112f1        299.859734  1.119157e+09   \n",
       "4  561d658f-3ee5-46e3-bc95-3528c6558ab9        333.531278  8.782936e+10   \n",
       "\n",
       "   Shape__Length  Death  \n",
       "0   2.881496e+06    161  \n",
       "1   4.188002e+05    267  \n",
       "2   4.008988e+06    665  \n",
       "3   3.357177e+05     58  \n",
       "4   2.648673e+06   1821  "
      ]
     },
     "execution_count": 23,
     "metadata": {},
     "output_type": "execute_result"
    }
   ],
   "source": [
    "pd_full_list=pd.DataFrame(full_list)\n",
    "pd_full_list.head()"
   ]
  },
  {
   "cell_type": "markdown",
   "metadata": {},
   "source": [
    "# API access via REST service,e.g. USA data\n",
    "example of a REST conform interface(attention registration mandatory)\n",
    "\n",
    "www.smartable.ai\n"
   ]
  }
 ],
 "metadata": {
  "kernelspec": {
   "display_name": "Python 3",
   "language": "python",
   "name": "python3"
  },
  "language_info": {
   "codemirror_mode": {
    "name": "ipython",
    "version": 3
   },
   "file_extension": ".py",
   "mimetype": "text/x-python",
   "name": "python",
   "nbconvert_exporter": "python",
   "pygments_lexer": "ipython3",
   "version": "3.7.3"
  }
 },
 "nbformat": 4,
 "nbformat_minor": 2
}
